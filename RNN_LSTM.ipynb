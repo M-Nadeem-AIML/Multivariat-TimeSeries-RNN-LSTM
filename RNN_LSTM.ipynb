{
  "cells": [
    {
      "cell_type": "markdown",
      "metadata": {
        "id": "view-in-github",
        "colab_type": "text"
      },
      "source": [
        "<a href=\"https://colab.research.google.com/github/M-Nadeem-AIML/Multivariat-TimeSeries-RNN-LSTM/blob/main/RNN_LSTM.ipynb\" target=\"_parent\"><img src=\"https://colab.research.google.com/assets/colab-badge.svg\" alt=\"Open In Colab\"/></a>"
      ]
    },
    {
      "cell_type": "code",
      "source": [
        ""
      ],
      "metadata": {
        "id": "gx-3DpEQZ7DJ"
      },
      "execution_count": null,
      "outputs": []
    },
    {
      "cell_type": "code",
      "execution_count": null,
      "metadata": {
        "id": "16SBNQJrZz6S",
        "outputId": "d109675d-531a-43a9-92f1-428e7bebaa28"
      },
      "outputs": [
        {
          "name": "stderr",
          "output_type": "stream",
          "text": [
            "2022-07-25 23:44:43.145969: W tensorflow/stream_executor/platform/default/dso_loader.cc:64] Could not load dynamic library 'libcudart.so.11.0'; dlerror: libcudart.so.11.0: cannot open shared object file: No such file or directory\n",
            "2022-07-25 23:44:43.146008: I tensorflow/stream_executor/cuda/cudart_stub.cc:29] Ignore above cudart dlerror if you do not have a GPU set up on your machine.\n"
          ]
        }
      ],
      "source": [
        "import tensorflow as tf\n",
        "from tensorflow.keras.callbacks import CSVLogger, EarlyStopping\n",
        "#sudo pip h5py\n",
        "import matplotlib as mpl\n",
        "import matplotlib.pyplot as plt\n",
        "import numpy as np\n",
        "import os\n",
        "import pandas as pd\n",
        "import seaborn as sns\n",
        "import time\n",
        "import gc\n",
        "import sys\n",
        "from sklearn.preprocessing import MinMaxScaler\n",
        "\n",
        "notebookstart= time.time()"
      ]
    },
    {
      "cell_type": "code",
      "execution_count": null,
      "metadata": {
        "id": "o_xmFyItZz6V"
      },
      "outputs": [],
      "source": [
        "import numpy as np\n",
        "import tensorflow as tf\n",
        "from tensorflow import keras\n",
        "import pandas as pd\n",
        "import seaborn as sns\n",
        "from pylab import rcParams\n",
        "import matplotlib.pyplot as plt\n",
        "from matplotlib import rc\n",
        "from sklearn.model_selection import train_test_split\n",
        "from pandas.plotting import register_matplotlib_converters"
      ]
    },
    {
      "cell_type": "code",
      "execution_count": null,
      "metadata": {
        "id": "IKm3CUHiZz6W",
        "outputId": "f4598d83-d8ee-40cf-a89c-36d31f70fb1b"
      },
      "outputs": [
        {
          "name": "stdout",
          "output_type": "stream",
          "text": [
            "DataFrame Shape: 60 rows, 7 columns\n"
          ]
        },
        {
          "data": {
            "text/html": [
              "<div>\n",
              "<style scoped>\n",
              "    .dataframe tbody tr th:only-of-type {\n",
              "        vertical-align: middle;\n",
              "    }\n",
              "\n",
              "    .dataframe tbody tr th {\n",
              "        vertical-align: top;\n",
              "    }\n",
              "\n",
              "    .dataframe thead th {\n",
              "        text-align: right;\n",
              "    }\n",
              "</style>\n",
              "<table border=\"1\" class=\"dataframe\">\n",
              "  <thead>\n",
              "    <tr style=\"text-align: right;\">\n",
              "      <th></th>\n",
              "      <th>Y</th>\n",
              "      <th>X2</th>\n",
              "      <th>X3</th>\n",
              "      <th>X4</th>\n",
              "      <th>X5</th>\n",
              "      <th>X6</th>\n",
              "      <th>X7</th>\n",
              "    </tr>\n",
              "    <tr>\n",
              "      <th>Date</th>\n",
              "      <th></th>\n",
              "      <th></th>\n",
              "      <th></th>\n",
              "      <th></th>\n",
              "      <th></th>\n",
              "      <th></th>\n",
              "      <th></th>\n",
              "    </tr>\n",
              "  </thead>\n",
              "  <tbody>\n",
              "    <tr>\n",
              "      <th>2019-01-01</th>\n",
              "      <td>674100.0</td>\n",
              "      <td>103.0</td>\n",
              "      <td>0.4</td>\n",
              "      <td>2158.0</td>\n",
              "      <td>2811.0</td>\n",
              "      <td>128.073107</td>\n",
              "      <td>6.11</td>\n",
              "    </tr>\n",
              "    <tr>\n",
              "      <th>2019-02-01</th>\n",
              "      <td>575800.0</td>\n",
              "      <td>103.0</td>\n",
              "      <td>0.4</td>\n",
              "      <td>2124.0</td>\n",
              "      <td>2633.0</td>\n",
              "      <td>127.182962</td>\n",
              "      <td>5.93</td>\n",
              "    </tr>\n",
              "    <tr>\n",
              "      <th>2019-03-01</th>\n",
              "      <td>666900.0</td>\n",
              "      <td>103.0</td>\n",
              "      <td>0.4</td>\n",
              "      <td>2713.0</td>\n",
              "      <td>3566.0</td>\n",
              "      <td>125.408625</td>\n",
              "      <td>5.88</td>\n",
              "    </tr>\n",
              "    <tr>\n",
              "      <th>2019-04-01</th>\n",
              "      <td>681010.0</td>\n",
              "      <td>103.0</td>\n",
              "      <td>0.4</td>\n",
              "      <td>2696.0</td>\n",
              "      <td>3489.0</td>\n",
              "      <td>124.049409</td>\n",
              "      <td>5.82</td>\n",
              "    </tr>\n",
              "    <tr>\n",
              "      <th>2019-05-01</th>\n",
              "      <td>764620.0</td>\n",
              "      <td>103.0</td>\n",
              "      <td>0.4</td>\n",
              "      <td>3059.0</td>\n",
              "      <td>3916.0</td>\n",
              "      <td>123.062657</td>\n",
              "      <td>5.76</td>\n",
              "    </tr>\n",
              "  </tbody>\n",
              "</table>\n",
              "</div>"
            ],
            "text/plain": [
              "                   Y     X2   X3      X4      X5          X6    X7\n",
              "Date                                                              \n",
              "2019-01-01  674100.0  103.0  0.4  2158.0  2811.0  128.073107  6.11\n",
              "2019-02-01  575800.0  103.0  0.4  2124.0  2633.0  127.182962  5.93\n",
              "2019-03-01  666900.0  103.0  0.4  2713.0  3566.0  125.408625  5.88\n",
              "2019-04-01  681010.0  103.0  0.4  2696.0  3489.0  124.049409  5.82\n",
              "2019-05-01  764620.0  103.0  0.4  3059.0  3916.0  123.062657  5.76"
            ]
          },
          "metadata": {},
          "output_type": "display_data"
        }
      ],
      "source": [
        "#Load data\n",
        "import openpyxl\n",
        "df_data = pd.read_excel('dataset.xlsx',index_col = 'Date')\n",
        "print(\"DataFrame Shape: {} rows, {} columns\".format(*df_data.shape))\n",
        "display(df_data.head())"
      ]
    },
    {
      "cell_type": "code",
      "execution_count": null,
      "metadata": {
        "id": "XPbbUuNUZz6W"
      },
      "outputs": [],
      "source": [
        "df=df_data.dropna()"
      ]
    },
    {
      "cell_type": "code",
      "execution_count": null,
      "metadata": {
        "id": "C09OGkZ7Zz6X",
        "outputId": "f39357f3-677e-41d1-c9da-41e4dbb31fd5"
      },
      "outputs": [
        {
          "name": "stdout",
          "output_type": "stream",
          "text": [
            "Y     False\n",
            "X2    False\n",
            "X3    False\n",
            "X4    False\n",
            "X5    False\n",
            "X6    False\n",
            "X7    False\n",
            "dtype: bool\n"
          ]
        }
      ],
      "source": [
        "# Check for null values\n",
        "print(df.isnull().any())"
      ]
    },
    {
      "cell_type": "code",
      "execution_count": null,
      "metadata": {
        "id": "O4FCCvoxZz6X",
        "outputId": "5cd1297d-0a85-4387-851b-aa6a4f992184"
      },
      "outputs": [
        {
          "name": "stdout",
          "output_type": "stream",
          "text": [
            "33 9\n"
          ]
        }
      ],
      "source": [
        "#split data\n",
        "train_size = int(len(df)*0.80)\n",
        "test_size = len(df)-train_size\n",
        "\n",
        "train,test = df.iloc[0:train_size],df.iloc[train_size:len(df)]\n",
        "print(len(train),len(test))"
      ]
    },
    {
      "cell_type": "code",
      "execution_count": null,
      "metadata": {
        "id": "AZJkORylZz6Y",
        "outputId": "ff0c9768-aed0-467f-94c2-7fe77ecbe8a8"
      },
      "outputs": [
        {
          "name": "stderr",
          "output_type": "stream",
          "text": [
            "/tmp/ipykernel_136049/2273857012.py:12: SettingWithCopyWarning: \n",
            "A value is trying to be set on a copy of a slice from a DataFrame\n",
            "\n",
            "See the caveats in the documentation: https://pandas.pydata.org/pandas-docs/stable/user_guide/indexing.html#returning-a-view-versus-a-copy\n",
            "  train.loc[:,F_col] = Rs.transform(train[F_col].to_numpy())\n",
            "/tmp/ipykernel_136049/2273857012.py:13: SettingWithCopyWarning: \n",
            "A value is trying to be set on a copy of a slice from a DataFrame.\n",
            "Try using .loc[row_indexer,col_indexer] = value instead\n",
            "\n",
            "See the caveats in the documentation: https://pandas.pydata.org/pandas-docs/stable/user_guide/indexing.html#returning-a-view-versus-a-copy\n",
            "  train['Y'] = Rs_t.transform(train[['Y']])\n",
            "/tmp/ipykernel_136049/2273857012.py:16: SettingWithCopyWarning: \n",
            "A value is trying to be set on a copy of a slice from a DataFrame\n",
            "\n",
            "See the caveats in the documentation: https://pandas.pydata.org/pandas-docs/stable/user_guide/indexing.html#returning-a-view-versus-a-copy\n",
            "  test.loc[:,F_col] = Rs.transform(test[F_col].to_numpy())\n",
            "/tmp/ipykernel_136049/2273857012.py:17: SettingWithCopyWarning: \n",
            "A value is trying to be set on a copy of a slice from a DataFrame.\n",
            "Try using .loc[row_indexer,col_indexer] = value instead\n",
            "\n",
            "See the caveats in the documentation: https://pandas.pydata.org/pandas-docs/stable/user_guide/indexing.html#returning-a-view-versus-a-copy\n",
            "  test['Y'] = Rs_t.transform(test[['Y']])\n"
          ]
        }
      ],
      "source": [
        "# Feature Scaling\n",
        "from sklearn.preprocessing import RobustScaler\n",
        "\n",
        "F_col = ['X2', 'X3','X4','X5','X6','X7']\n",
        "\n",
        "Rs = MinMaxScaler()\n",
        "Rs_t = MinMaxScaler()\n",
        "\n",
        "Rs = Rs.fit(train[F_col].to_numpy())\n",
        "Rs_t = Rs_t.fit(train[['Y']])\n",
        "\n",
        "train.loc[:,F_col] = Rs.transform(train[F_col].to_numpy())\n",
        "train['Y'] = Rs_t.transform(train[['Y']])\n",
        "\n",
        "\n",
        "test.loc[:,F_col] = Rs.transform(test[F_col].to_numpy())\n",
        "test['Y'] = Rs_t.transform(test[['Y']])"
      ]
    },
    {
      "cell_type": "code",
      "execution_count": null,
      "metadata": {
        "id": "Zj5nxXibZz6Z"
      },
      "outputs": [],
      "source": [
        "def create_dataset(X, y, time_steps=1):\n",
        "    Xs, ys = [], []\n",
        "    for i in range(len(X) - time_steps):\n",
        "        v = X.iloc[i:(i + time_steps)].values\n",
        "        Xs.append(v)        \n",
        "        ys.append(y.iloc[i + time_steps])\n",
        "    return np.array(Xs), np.array(ys)\n"
      ]
    },
    {
      "cell_type": "code",
      "execution_count": null,
      "metadata": {
        "id": "-5P9Y8BZZz6Z",
        "outputId": "dbe78da6-5075-4f61-e0fa-718fd895930e"
      },
      "outputs": [
        {
          "name": "stdout",
          "output_type": "stream",
          "text": [
            "(30, 3, 7) (6,)\n"
          ]
        }
      ],
      "source": [
        "time_steps = 3\n",
        "\n",
        "# reshape to [samples, time_steps, n_features]\n",
        "\n",
        "X_train, y_train = create_dataset(train, train.Y, time_steps)\n",
        "X_test, y_test = create_dataset(test, test.Y, time_steps)\n",
        "\n",
        "print(X_train.shape, y_test.shape)\n"
      ]
    },
    {
      "cell_type": "code",
      "execution_count": null,
      "metadata": {
        "id": "1-2Xx45rZz6a",
        "outputId": "40510712-2de6-4a00-c84d-205db1c02d3e"
      },
      "outputs": [
        {
          "data": {
            "text/plain": [
              "array([[[ 0.66339774,  1.        ,  1.        ,  0.94596632,\n",
              "          0.92686902,  0.63403062, -0.05102041],\n",
              "        [ 1.04248633,  1.        ,  1.        ,  1.13772305,\n",
              "          1.0926869 ,  0.63183191, -0.10204082],\n",
              "        [ 0.83362978,  1.        ,  1.33333333,  1.10856999,\n",
              "          1.0627419 ,  0.64671718, -0.13265306]],\n",
              "\n",
              "       [[ 1.04248633,  1.        ,  1.        ,  1.13772305,\n",
              "          1.0926869 ,  0.63183191, -0.10204082],\n",
              "        [ 0.83362978,  1.        ,  1.33333333,  1.10856999,\n",
              "          1.0627419 ,  0.64671718, -0.13265306],\n",
              "        [ 0.59832282,  1.        ,  1.33333333,  0.89042473,\n",
              "          0.81829293,  0.63534303, -0.18367347]],\n",
              "\n",
              "       [[ 0.83362978,  1.        ,  1.33333333,  1.10856999,\n",
              "          1.0627419 ,  0.64671718, -0.13265306],\n",
              "        [ 0.59832282,  1.        ,  1.33333333,  0.89042473,\n",
              "          0.81829293,  0.63534303, -0.18367347],\n",
              "        [ 0.50527892,  1.        ,  1.33333333,  0.8964564 ,\n",
              "          0.81381137,  0.58449572, -0.21428571]],\n",
              "\n",
              "       [[ 0.59832282,  1.        ,  1.33333333,  0.89042473,\n",
              "          0.81829293,  0.63534303, -0.18367347],\n",
              "        [ 0.50527892,  1.        ,  1.33333333,  0.8964564 ,\n",
              "          0.81381137,  0.58449572, -0.21428571],\n",
              "        [ 0.66676858,  1.        ,  1.33333333,  1.01583312,\n",
              "          0.96679568,  0.54183234, -0.2755102 ]],\n",
              "\n",
              "       [[ 0.50527892,  1.        ,  1.33333333,  0.8964564 ,\n",
              "          0.81381137,  0.58449572, -0.21428571],\n",
              "        [ 0.66676858,  1.        ,  1.33333333,  1.01583312,\n",
              "          0.96679568,  0.54183234, -0.2755102 ],\n",
              "        [ 0.61260292,  1.        ,  1.33333333,  1.03066097,\n",
              "          0.9755551 ,  0.51172186, -0.29591837]],\n",
              "\n",
              "       [[ 0.66676858,  1.        ,  1.33333333,  1.01583312,\n",
              "          0.96679568,  0.54183234, -0.2755102 ],\n",
              "        [ 0.61260292,  1.        ,  1.33333333,  1.03066097,\n",
              "          0.9755551 ,  0.51172186, -0.29591837],\n",
              "        [ 0.67365236,  1.        ,  1.33333333,  1.01633576,\n",
              "          0.98166633,  0.54542736, -0.35714286]]])"
            ]
          },
          "execution_count": 153,
          "metadata": {},
          "output_type": "execute_result"
        }
      ],
      "source": [
        "X_test.view()"
      ]
    },
    {
      "cell_type": "code",
      "execution_count": null,
      "metadata": {
        "id": "01LRd3EyZz6a"
      },
      "outputs": [],
      "source": [
        "model = keras.Sequential()\n",
        "model.add(\n",
        "    keras.layers.LSTM(\n",
        "      units=32, \n",
        "      input_shape=(X_train.shape[1], X_train.shape[2]), return_sequences = False\n",
        "    )\n",
        "  )\n",
        "\n",
        "model.add(keras.layers.Dropout(rate=0.2))\n",
        "model.add(keras.layers.Dense(units=1,kernel_regularizer='l1'))\n",
        "model.compile(loss='mean_squared_error', optimizer='SGD', metrics = ['mse'])"
      ]
    },
    {
      "cell_type": "code",
      "execution_count": null,
      "metadata": {
        "scrolled": true,
        "id": "WHF5N0h3Zz6a",
        "outputId": "0596df07-904c-4d08-bf5b-e4f46677dc6b"
      },
      "outputs": [
        {
          "name": "stdout",
          "output_type": "stream",
          "text": [
            "Epoch 1/40\n",
            "4/4 [==============================] - 1s 120ms/step - loss: 0.4759 - mse: 0.4114 - val_loss: 0.4598 - val_mse: 0.3956\n",
            "Epoch 2/40\n",
            "4/4 [==============================] - 0s 7ms/step - loss: 0.3449 - mse: 0.2808 - val_loss: 0.3466 - val_mse: 0.2827\n",
            "Epoch 3/40\n",
            "4/4 [==============================] - 0s 10ms/step - loss: 0.3074 - mse: 0.2435 - val_loss: 0.2608 - val_mse: 0.1972\n",
            "Epoch 4/40\n",
            "4/4 [==============================] - 0s 8ms/step - loss: 0.2227 - mse: 0.1592 - val_loss: 0.2071 - val_mse: 0.1437\n",
            "Epoch 5/40\n",
            "4/4 [==============================] - 0s 11ms/step - loss: 0.2018 - mse: 0.1384 - val_loss: 0.1673 - val_mse: 0.1040\n",
            "Epoch 6/40\n",
            "4/4 [==============================] - 0s 10ms/step - loss: 0.1779 - mse: 0.1146 - val_loss: 0.1401 - val_mse: 0.0770\n",
            "Epoch 7/40\n",
            "4/4 [==============================] - 0s 12ms/step - loss: 0.1363 - mse: 0.0731 - val_loss: 0.1227 - val_mse: 0.0596\n",
            "Epoch 8/40\n",
            "4/4 [==============================] - 0s 11ms/step - loss: 0.1387 - mse: 0.0757 - val_loss: 0.1075 - val_mse: 0.0445\n",
            "Epoch 9/40\n",
            "4/4 [==============================] - 0s 11ms/step - loss: 0.1219 - mse: 0.0590 - val_loss: 0.0995 - val_mse: 0.0367\n",
            "Epoch 10/40\n",
            "4/4 [==============================] - 0s 12ms/step - loss: 0.1243 - mse: 0.0615 - val_loss: 0.0920 - val_mse: 0.0292\n",
            "Epoch 11/40\n",
            "4/4 [==============================] - 0s 10ms/step - loss: 0.1236 - mse: 0.0609 - val_loss: 0.0874 - val_mse: 0.0248\n",
            "Epoch 12/40\n",
            "4/4 [==============================] - 0s 8ms/step - loss: 0.1222 - mse: 0.0597 - val_loss: 0.0838 - val_mse: 0.0213\n",
            "Epoch 13/40\n",
            "4/4 [==============================] - 0s 9ms/step - loss: 0.1129 - mse: 0.0505 - val_loss: 0.0815 - val_mse: 0.0191\n",
            "Epoch 14/40\n",
            "4/4 [==============================] - 0s 8ms/step - loss: 0.1154 - mse: 0.0531 - val_loss: 0.0798 - val_mse: 0.0175\n",
            "Epoch 15/40\n",
            "4/4 [==============================] - 0s 7ms/step - loss: 0.1100 - mse: 0.0478 - val_loss: 0.0785 - val_mse: 0.0163\n",
            "Epoch 16/40\n",
            "4/4 [==============================] - 0s 7ms/step - loss: 0.1058 - mse: 0.0437 - val_loss: 0.0774 - val_mse: 0.0154\n",
            "Epoch 17/40\n",
            "4/4 [==============================] - 0s 7ms/step - loss: 0.1178 - mse: 0.0558 - val_loss: 0.0767 - val_mse: 0.0148\n",
            "Epoch 18/40\n",
            "4/4 [==============================] - 0s 8ms/step - loss: 0.1083 - mse: 0.0464 - val_loss: 0.0761 - val_mse: 0.0143\n",
            "Epoch 19/40\n",
            "4/4 [==============================] - 0s 8ms/step - loss: 0.1029 - mse: 0.0411 - val_loss: 0.0759 - val_mse: 0.0142\n",
            "Epoch 20/40\n",
            "4/4 [==============================] - 0s 9ms/step - loss: 0.1039 - mse: 0.0422 - val_loss: 0.0756 - val_mse: 0.0140\n",
            "Epoch 21/40\n",
            "4/4 [==============================] - 0s 11ms/step - loss: 0.1077 - mse: 0.0461 - val_loss: 0.0753 - val_mse: 0.0138\n",
            "Epoch 22/40\n",
            "4/4 [==============================] - 0s 11ms/step - loss: 0.1033 - mse: 0.0418 - val_loss: 0.0752 - val_mse: 0.0138\n",
            "Epoch 23/40\n",
            "4/4 [==============================] - 0s 9ms/step - loss: 0.1002 - mse: 0.0389 - val_loss: 0.0750 - val_mse: 0.0137\n",
            "Epoch 24/40\n",
            "4/4 [==============================] - 0s 8ms/step - loss: 0.1059 - mse: 0.0448 - val_loss: 0.0748 - val_mse: 0.0137\n",
            "Epoch 25/40\n",
            "4/4 [==============================] - 0s 8ms/step - loss: 0.1124 - mse: 0.0513 - val_loss: 0.0746 - val_mse: 0.0136\n",
            "Epoch 26/40\n",
            "4/4 [==============================] - 0s 7ms/step - loss: 0.1055 - mse: 0.0445 - val_loss: 0.0745 - val_mse: 0.0136\n",
            "Epoch 27/40\n",
            "4/4 [==============================] - 0s 7ms/step - loss: 0.1001 - mse: 0.0392 - val_loss: 0.0744 - val_mse: 0.0135\n",
            "Epoch 28/40\n",
            "4/4 [==============================] - 0s 7ms/step - loss: 0.1028 - mse: 0.0420 - val_loss: 0.0743 - val_mse: 0.0136\n",
            "Epoch 29/40\n",
            "4/4 [==============================] - 0s 7ms/step - loss: 0.0967 - mse: 0.0360 - val_loss: 0.0742 - val_mse: 0.0136\n",
            "Epoch 30/40\n",
            "4/4 [==============================] - 0s 7ms/step - loss: 0.1023 - mse: 0.0417 - val_loss: 0.0740 - val_mse: 0.0136\n",
            "Epoch 31/40\n",
            "4/4 [==============================] - 0s 8ms/step - loss: 0.1054 - mse: 0.0450 - val_loss: 0.0739 - val_mse: 0.0136\n",
            "Epoch 32/40\n",
            "4/4 [==============================] - 0s 7ms/step - loss: 0.1061 - mse: 0.0458 - val_loss: 0.0739 - val_mse: 0.0136\n",
            "Epoch 33/40\n",
            "4/4 [==============================] - 0s 7ms/step - loss: 0.1090 - mse: 0.0488 - val_loss: 0.0737 - val_mse: 0.0136\n",
            "Epoch 34/40\n",
            "4/4 [==============================] - 0s 9ms/step - loss: 0.0980 - mse: 0.0379 - val_loss: 0.0737 - val_mse: 0.0137\n",
            "Epoch 35/40\n",
            "4/4 [==============================] - 0s 10ms/step - loss: 0.1019 - mse: 0.0419 - val_loss: 0.0736 - val_mse: 0.0137\n",
            "Epoch 36/40\n",
            "4/4 [==============================] - 0s 11ms/step - loss: 0.0974 - mse: 0.0375 - val_loss: 0.0735 - val_mse: 0.0137\n",
            "Epoch 37/40\n",
            "4/4 [==============================] - 0s 11ms/step - loss: 0.1021 - mse: 0.0424 - val_loss: 0.0736 - val_mse: 0.0139\n",
            "Epoch 38/40\n",
            "4/4 [==============================] - 0s 9ms/step - loss: 0.0960 - mse: 0.0363 - val_loss: 0.0735 - val_mse: 0.0139\n",
            "Epoch 39/40\n",
            "4/4 [==============================] - 0s 8ms/step - loss: 0.0991 - mse: 0.0395 - val_loss: 0.0734 - val_mse: 0.0139\n",
            "Epoch 40/40\n",
            "4/4 [==============================] - 0s 8ms/step - loss: 0.1031 - mse: 0.0437 - val_loss: 0.0731 - val_mse: 0.0138\n"
          ]
        }
      ],
      "source": [
        "early_stopping = EarlyStopping(monitor='val_loss', patience = 3, restore_best_weights=True)\n",
        "history = model.fit(\n",
        "    X_train, y_train, \n",
        "    epochs=40, \n",
        "    batch_size=6,\n",
        "    #steps_per_epoch = 12,\n",
        "    callbacks = early_stopping,\n",
        "    validation_split= 0.2,\n",
        "    shuffle=False\n",
        ")"
      ]
    },
    {
      "cell_type": "code",
      "execution_count": null,
      "metadata": {
        "id": "ahr4y2l-Zz6b",
        "outputId": "b7223325-df85-4c71-82fb-17a230d5fe3c"
      },
      "outputs": [
        {
          "name": "stdout",
          "output_type": "stream",
          "text": [
            "dict_keys(['loss', 'mse', 'val_loss', 'val_mse'])\n"
          ]
        }
      ],
      "source": [
        "print(history.history.keys())"
      ]
    },
    {
      "cell_type": "code",
      "execution_count": null,
      "metadata": {
        "id": "iJ9lG2xVZz6b",
        "outputId": "38d3694c-232c-4987-9bdf-e283e7cf268d"
      },
      "outputs": [
        {
          "name": "stdout",
          "output_type": "stream",
          "text": [
            "Model: \"sequential_11\"\n",
            "_________________________________________________________________\n",
            " Layer (type)                Output Shape              Param #   \n",
            "=================================================================\n",
            " lstm_15 (LSTM)              (None, 32)                5120      \n",
            "                                                                 \n",
            " dropout_7 (Dropout)         (None, 32)                0         \n",
            "                                                                 \n",
            " dense_11 (Dense)            (None, 1)                 33        \n",
            "                                                                 \n",
            "=================================================================\n",
            "Total params: 5,153\n",
            "Trainable params: 5,153\n",
            "Non-trainable params: 0\n",
            "_________________________________________________________________\n"
          ]
        }
      ],
      "source": [
        "model.summary()"
      ]
    },
    {
      "cell_type": "code",
      "execution_count": null,
      "metadata": {
        "id": "pNhLVY-TZz6b",
        "outputId": "77292858-cc2b-4a5e-f40b-8774724c0998"
      },
      "outputs": [
        {
          "data": {
            "image/png": "[encoded data removed]",
            "text/plain": [
              "<Figure size 432x288 with 1 Axes>"
            ]
          },
          "metadata": {
            "needs_background": "light"
          },
          "output_type": "display_data"
        }
      ],
      "source": [
        "# plot performance\n",
        "plt.plot(history.history['mse'], label='train')\n",
        "plt.plot(history.history['val_mse'], label='test')\n",
        "plt.legend();"
      ]
    },
    {
      "cell_type": "code",
      "execution_count": null,
      "metadata": {
        "id": "OCTaHalDZz6c",
        "outputId": "dc6ec12f-d89c-4a39-af6e-eb06ea1c9a4c"
      },
      "outputs": [
        {
          "data": {
            "text/plain": [
              "array([[[ 0.66339774,  1.        ,  1.        ,  0.94596632,\n",
              "          0.92686902,  0.63403062, -0.05102041],\n",
              "        [ 1.04248633,  1.        ,  1.        ,  1.13772305,\n",
              "          1.0926869 ,  0.63183191, -0.10204082],\n",
              "        [ 0.83362978,  1.        ,  1.33333333,  1.10856999,\n",
              "          1.0627419 ,  0.64671718, -0.13265306]],\n",
              "\n",
              "       [[ 1.04248633,  1.        ,  1.        ,  1.13772305,\n",
              "          1.0926869 ,  0.63183191, -0.10204082],\n",
              "        [ 0.83362978,  1.        ,  1.33333333,  1.10856999,\n",
              "          1.0627419 ,  0.64671718, -0.13265306],\n",
              "        [ 0.59832282,  1.        ,  1.33333333,  0.89042473,\n",
              "          0.81829293,  0.63534303, -0.18367347]],\n",
              "\n",
              "       [[ 0.83362978,  1.        ,  1.33333333,  1.10856999,\n",
              "          1.0627419 ,  0.64671718, -0.13265306],\n",
              "        [ 0.59832282,  1.        ,  1.33333333,  0.89042473,\n",
              "          0.81829293,  0.63534303, -0.18367347],\n",
              "        [ 0.50527892,  1.        ,  1.33333333,  0.8964564 ,\n",
              "          0.81381137,  0.58449572, -0.21428571]],\n",
              "\n",
              "       [[ 0.59832282,  1.        ,  1.33333333,  0.89042473,\n",
              "          0.81829293,  0.63534303, -0.18367347],\n",
              "        [ 0.50527892,  1.        ,  1.33333333,  0.8964564 ,\n",
              "          0.81381137,  0.58449572, -0.21428571],\n",
              "        [ 0.66676858,  1.        ,  1.33333333,  1.01583312,\n",
              "          0.96679568,  0.54183234, -0.2755102 ]],\n",
              "\n",
              "       [[ 0.50527892,  1.        ,  1.33333333,  0.8964564 ,\n",
              "          0.81381137,  0.58449572, -0.21428571],\n",
              "        [ 0.66676858,  1.        ,  1.33333333,  1.01583312,\n",
              "          0.96679568,  0.54183234, -0.2755102 ],\n",
              "        [ 0.61260292,  1.        ,  1.33333333,  1.03066097,\n",
              "          0.9755551 ,  0.51172186, -0.29591837]],\n",
              "\n",
              "       [[ 0.66676858,  1.        ,  1.33333333,  1.01583312,\n",
              "          0.96679568,  0.54183234, -0.2755102 ],\n",
              "        [ 0.61260292,  1.        ,  1.33333333,  1.03066097,\n",
              "          0.9755551 ,  0.51172186, -0.29591837],\n",
              "        [ 0.67365236,  1.        ,  1.33333333,  1.01633576,\n",
              "          0.98166633,  0.54542736, -0.35714286]]])"
            ]
          },
          "execution_count": 159,
          "metadata": {},
          "output_type": "execute_result"
        }
      ],
      "source": [
        "X_test.view()\n"
      ]
    },
    {
      "cell_type": "code",
      "execution_count": null,
      "metadata": {
        "id": "47plwp27Zz6c",
        "outputId": "34d3b7fe-abae-45a1-f2c2-d66f7275f5a8"
      },
      "outputs": [
        {
          "name": "stdout",
          "output_type": "stream",
          "text": [
            "(6, 1)\n"
          ]
        }
      ],
      "source": [
        "y_pred = model.predict(X_test)\n",
        "print(y_pred.shape)"
      ]
    },
    {
      "cell_type": "code",
      "execution_count": null,
      "metadata": {
        "id": "seQyol37Zz6c"
      },
      "outputs": [],
      "source": [
        "y_train_inv = Rs_t.inverse_transform(y_train.reshape(1,-1))\n",
        "y_test_inv = Rs_t.inverse_transform(y_test.reshape(1,-1))\n",
        "y_pred_inv = Rs_t.inverse_transform(y_pred)"
      ]
    },
    {
      "cell_type": "code",
      "execution_count": null,
      "metadata": {
        "id": "PuTv6nQrZz6d",
        "outputId": "1119b7dd-534d-48b3-86d7-95bf19e054eb"
      },
      "outputs": [
        {
          "data": {
            "image/png": "[encoded data removed]",
            "text/plain": [
              "<Figure size 432x288 with 1 Axes>"
            ]
          },
          "metadata": {
            "needs_background": "light"
          },
          "output_type": "display_data"
        }
      ],
      "source": [
        "plt.plot(np.arange(0, len(y_train)), y_train_inv.flatten(), 'g', label=\"history\")\n",
        "plt.plot(np.arange(len(y_train), len(y_train) + len(y_test)), y_test_inv.flatten(), marker='.', label=\"true\")\n",
        "plt.plot(np.arange(len(y_train), len(y_train) + len(y_test)), y_pred_inv.flatten(), 'r', label=\"prediction\")\n",
        "plt.ylabel('Y')\n",
        "plt.xlabel('Time Step')\n",
        "plt.legend()\n",
        "plt.show();"
      ]
    },
    {
      "cell_type": "code",
      "execution_count": null,
      "metadata": {
        "id": "v1BRClJGZz6d",
        "outputId": "876da1cc-cf73-4598-9f13-0f6fe2f33378"
      },
      "outputs": [
        {
          "data": {
            "image/png": "[encoded data removed]",
            "text/plain": [
              "<Figure size 432x288 with 1 Axes>"
            ]
          },
          "metadata": {
            "needs_background": "light"
          },
          "output_type": "display_data"
        }
      ],
      "source": [
        "plt.plot(y_test_inv.flatten(), marker='.', label=\"true\")\n",
        "plt.plot(y_pred_inv.flatten(), 'r', label=\"prediction\")\n",
        "plt.ylabel('Y')\n",
        "plt.xlabel('Time Step')\n",
        "plt.legend()\n",
        "plt.show();"
      ]
    },
    {
      "cell_type": "markdown",
      "metadata": {
        "id": "kAkb_ZDrZz6d"
      },
      "source": [
        "ADD second layer"
      ]
    },
    {
      "cell_type": "code",
      "execution_count": null,
      "metadata": {
        "id": "3SqYNl96Zz6e"
      },
      "outputs": [],
      "source": [
        "model2 = keras.models.Sequential()\n",
        "\n",
        "model2.add(keras.layers.LSTM(units=32, input_shape=(X_train.shape[1], X_train.shape[2]), return_sequences = True))\n",
        "model2.add(keras.layers.LSTM(128, activation = 'tanh',dropout = 0.3))\n",
        "model2.add(keras.layers.Dense(units=1,kernel_regularizer='l1'))\n",
        "model2.compile(loss='mean_squared_error', optimizer='SGD', metrics = ['mse'])"
      ]
    },
    {
      "cell_type": "code",
      "execution_count": null,
      "metadata": {
        "id": "k9D2UE6JZz6e",
        "outputId": "bb568671-4b75-48c0-aaee-f6835e2eb6ee"
      },
      "outputs": [
        {
          "name": "stdout",
          "output_type": "stream",
          "text": [
            "Epoch 1/50\n",
            "6/6 [==============================] - 2s 120ms/step - loss: 0.3881 - mse: 0.2608 - val_loss: 0.4401 - val_mse: 0.3131\n",
            "Epoch 2/50\n",
            "6/6 [==============================] - 0s 9ms/step - loss: 0.3197 - mse: 0.1930 - val_loss: 0.3600 - val_mse: 0.2336\n",
            "Epoch 3/50\n",
            "6/6 [==============================] - 0s 9ms/step - loss: 0.2707 - mse: 0.1446 - val_loss: 0.3039 - val_mse: 0.1780\n",
            "Epoch 4/50\n",
            "6/6 [==============================] - 0s 8ms/step - loss: 0.2397 - mse: 0.1141 - val_loss: 0.2641 - val_mse: 0.1388\n",
            "Epoch 5/50\n",
            "6/6 [==============================] - 0s 8ms/step - loss: 0.2185 - mse: 0.0935 - val_loss: 0.2353 - val_mse: 0.1105\n",
            "Epoch 6/50\n",
            "6/6 [==============================] - 0s 8ms/step - loss: 0.2052 - mse: 0.0807 - val_loss: 0.2142 - val_mse: 0.0899\n",
            "Epoch 7/50\n",
            "6/6 [==============================] - 0s 7ms/step - loss: 0.1955 - mse: 0.0716 - val_loss: 0.1985 - val_mse: 0.0748\n",
            "Epoch 8/50\n",
            "6/6 [==============================] - 0s 8ms/step - loss: 0.1877 - mse: 0.0644 - val_loss: 0.1869 - val_mse: 0.0638\n",
            "Epoch 9/50\n",
            "6/6 [==============================] - 0s 9ms/step - loss: 0.1843 - mse: 0.0616 - val_loss: 0.1780 - val_mse: 0.0556\n",
            "Epoch 10/50\n",
            "6/6 [==============================] - 0s 8ms/step - loss: 0.1808 - mse: 0.0588 - val_loss: 0.1714 - val_mse: 0.0496\n",
            "Epoch 11/50\n",
            "6/6 [==============================] - 0s 8ms/step - loss: 0.1789 - mse: 0.0574 - val_loss: 0.1660 - val_mse: 0.0448\n",
            "Epoch 12/50\n",
            "6/6 [==============================] - 0s 9ms/step - loss: 0.1767 - mse: 0.0559 - val_loss: 0.1617 - val_mse: 0.0412\n",
            "Epoch 13/50\n",
            "6/6 [==============================] - 0s 9ms/step - loss: 0.1750 - mse: 0.0549 - val_loss: 0.1582 - val_mse: 0.0383\n",
            "Epoch 14/50\n",
            "6/6 [==============================] - 0s 9ms/step - loss: 0.1747 - mse: 0.0552 - val_loss: 0.1552 - val_mse: 0.0361\n",
            "Epoch 15/50\n",
            "6/6 [==============================] - 0s 8ms/step - loss: 0.1731 - mse: 0.0543 - val_loss: 0.1527 - val_mse: 0.0342\n",
            "Epoch 16/50\n",
            "6/6 [==============================] - 0s 8ms/step - loss: 0.1716 - mse: 0.0535 - val_loss: 0.1506 - val_mse: 0.0328\n",
            "Epoch 17/50\n",
            "6/6 [==============================] - 0s 8ms/step - loss: 0.1707 - mse: 0.0533 - val_loss: 0.1488 - val_mse: 0.0316\n",
            "Epoch 18/50\n",
            "6/6 [==============================] - 0s 8ms/step - loss: 0.1703 - mse: 0.0535 - val_loss: 0.1472 - val_mse: 0.0308\n",
            "Epoch 19/50\n",
            "6/6 [==============================] - 0s 8ms/step - loss: 0.1704 - mse: 0.0543 - val_loss: 0.1459 - val_mse: 0.0301\n",
            "Epoch 20/50\n",
            "6/6 [==============================] - 0s 8ms/step - loss: 0.1693 - mse: 0.0538 - val_loss: 0.1446 - val_mse: 0.0294\n",
            "Epoch 21/50\n",
            "6/6 [==============================] - 0s 9ms/step - loss: 0.1680 - mse: 0.0533 - val_loss: 0.1433 - val_mse: 0.0289\n",
            "Epoch 22/50\n",
            "6/6 [==============================] - 0s 10ms/step - loss: 0.1671 - mse: 0.0530 - val_loss: 0.1422 - val_mse: 0.0284\n",
            "Epoch 23/50\n",
            "6/6 [==============================] - 0s 9ms/step - loss: 0.1655 - mse: 0.0521 - val_loss: 0.1412 - val_mse: 0.0281\n",
            "Epoch 24/50\n",
            "6/6 [==============================] - 0s 9ms/step - loss: 0.1666 - mse: 0.0539 - val_loss: 0.1402 - val_mse: 0.0278\n",
            "Epoch 25/50\n",
            "6/6 [==============================] - 0s 8ms/step - loss: 0.1667 - mse: 0.0546 - val_loss: 0.1393 - val_mse: 0.0275\n",
            "Epoch 26/50\n",
            "6/6 [==============================] - 0s 8ms/step - loss: 0.1645 - mse: 0.0531 - val_loss: 0.1385 - val_mse: 0.0274\n",
            "Epoch 27/50\n",
            "6/6 [==============================] - 0s 8ms/step - loss: 0.1630 - mse: 0.0522 - val_loss: 0.1376 - val_mse: 0.0271\n",
            "Epoch 28/50\n",
            "6/6 [==============================] - 0s 8ms/step - loss: 0.1626 - mse: 0.0525 - val_loss: 0.1368 - val_mse: 0.0270\n",
            "Epoch 29/50\n",
            "6/6 [==============================] - 0s 8ms/step - loss: 0.1601 - mse: 0.0507 - val_loss: 0.1359 - val_mse: 0.0268\n",
            "Epoch 30/50\n",
            "6/6 [==============================] - 0s 9ms/step - loss: 0.1618 - mse: 0.0530 - val_loss: 0.1352 - val_mse: 0.0267\n",
            "Epoch 31/50\n",
            "6/6 [==============================] - 0s 8ms/step - loss: 0.1602 - mse: 0.0521 - val_loss: 0.1345 - val_mse: 0.0267\n",
            "Epoch 32/50\n",
            "6/6 [==============================] - 0s 9ms/step - loss: 0.1584 - mse: 0.0510 - val_loss: 0.1338 - val_mse: 0.0267\n",
            "Epoch 33/50\n",
            "6/6 [==============================] - 0s 9ms/step - loss: 0.1593 - mse: 0.0525 - val_loss: 0.1331 - val_mse: 0.0266\n",
            "Epoch 34/50\n",
            "6/6 [==============================] - 0s 8ms/step - loss: 0.1582 - mse: 0.0521 - val_loss: 0.1323 - val_mse: 0.0265\n",
            "Epoch 35/50\n",
            "6/6 [==============================] - 0s 9ms/step - loss: 0.1580 - mse: 0.0526 - val_loss: 0.1315 - val_mse: 0.0264\n",
            "Epoch 36/50\n",
            "6/6 [==============================] - 0s 9ms/step - loss: 0.1563 - mse: 0.0515 - val_loss: 0.1309 - val_mse: 0.0264\n",
            "Epoch 37/50\n",
            "6/6 [==============================] - 0s 9ms/step - loss: 0.1556 - mse: 0.0515 - val_loss: 0.1302 - val_mse: 0.0263\n",
            "Epoch 38/50\n",
            "6/6 [==============================] - 0s 9ms/step - loss: 0.1544 - mse: 0.0509 - val_loss: 0.1294 - val_mse: 0.0262\n",
            "Epoch 39/50\n",
            "6/6 [==============================] - 0s 9ms/step - loss: 0.1548 - mse: 0.0520 - val_loss: 0.1287 - val_mse: 0.0262\n",
            "Epoch 40/50\n",
            "6/6 [==============================] - 0s 9ms/step - loss: 0.1534 - mse: 0.0513 - val_loss: 0.1280 - val_mse: 0.0261\n",
            "Epoch 41/50\n",
            "6/6 [==============================] - 0s 9ms/step - loss: 0.1538 - mse: 0.0523 - val_loss: 0.1273 - val_mse: 0.0261\n",
            "Epoch 42/50\n",
            "6/6 [==============================] - 0s 9ms/step - loss: 0.1515 - mse: 0.0507 - val_loss: 0.1266 - val_mse: 0.0260\n",
            "Epoch 43/50\n",
            "6/6 [==============================] - 0s 9ms/step - loss: 0.1511 - mse: 0.0509 - val_loss: 0.1259 - val_mse: 0.0259\n",
            "Epoch 44/50\n",
            "6/6 [==============================] - 0s 10ms/step - loss: 0.1512 - mse: 0.0516 - val_loss: 0.1252 - val_mse: 0.0259\n",
            "Epoch 45/50\n",
            "6/6 [==============================] - 0s 11ms/step - loss: 0.1507 - mse: 0.0517 - val_loss: 0.1244 - val_mse: 0.0257\n",
            "Epoch 46/50\n",
            "6/6 [==============================] - 0s 10ms/step - loss: 0.1498 - mse: 0.0515 - val_loss: 0.1238 - val_mse: 0.0258\n",
            "Epoch 47/50\n",
            "6/6 [==============================] - 0s 10ms/step - loss: 0.1488 - mse: 0.0511 - val_loss: 0.1230 - val_mse: 0.0257\n",
            "Epoch 48/50\n",
            "6/6 [==============================] - 0s 9ms/step - loss: 0.1484 - mse: 0.0514 - val_loss: 0.1223 - val_mse: 0.0255\n",
            "Epoch 49/50\n",
            "6/6 [==============================] - 0s 9ms/step - loss: 0.1469 - mse: 0.0505 - val_loss: 0.1216 - val_mse: 0.0255\n",
            "Epoch 50/50\n",
            "6/6 [==============================] - 0s 9ms/step - loss: 0.1470 - mse: 0.0512 - val_loss: 0.1211 - val_mse: 0.0256\n"
          ]
        }
      ],
      "source": [
        "early_stopping = EarlyStopping(monitor='val_loss', patience = 3, restore_best_weights=True)\n",
        "history2 = model2.fit(\n",
        "    X_train, y_train, \n",
        "    epochs=50, \n",
        "    batch_size=4,\n",
        "    #steps_per_epoch = 12,\n",
        "    callbacks = early_stopping,\n",
        "    validation_split= 0.2,\n",
        "    shuffle=False\n",
        ")"
      ]
    },
    {
      "cell_type": "code",
      "execution_count": null,
      "metadata": {
        "id": "cr4CdUvIZz6f",
        "outputId": "6dc0dbf2-c39f-4c2e-aad2-a8162c694a47"
      },
      "outputs": [
        {
          "name": "stdout",
          "output_type": "stream",
          "text": [
            "Model: \"sequential_12\"\n",
            "_________________________________________________________________\n",
            " Layer (type)                Output Shape              Param #   \n",
            "=================================================================\n",
            " lstm_16 (LSTM)              (None, 3, 32)             5120      \n",
            "                                                                 \n",
            " lstm_17 (LSTM)              (None, 128)               82432     \n",
            "                                                                 \n",
            " dense_12 (Dense)            (None, 1)                 129       \n",
            "                                                                 \n",
            "=================================================================\n",
            "Total params: 87,681\n",
            "Trainable params: 87,681\n",
            "Non-trainable params: 0\n",
            "_________________________________________________________________\n"
          ]
        }
      ],
      "source": [
        "model2.summary()"
      ]
    },
    {
      "cell_type": "code",
      "execution_count": null,
      "metadata": {
        "id": "jriqOtKNZz6f",
        "outputId": "26024346-a969-4042-a75b-59bd06dc9868"
      },
      "outputs": [
        {
          "data": {
            "image/png": "[encoded data removed]",
            "text/plain": [
              "<Figure size 432x288 with 1 Axes>"
            ]
          },
          "metadata": {
            "needs_background": "light"
          },
          "output_type": "display_data"
        }
      ],
      "source": [
        "plt.plot(history2.history['loss'], label='train')\n",
        "plt.plot(history2.history['val_loss'], label='test')\n",
        "plt.legend();"
      ]
    },
    {
      "cell_type": "code",
      "execution_count": null,
      "metadata": {
        "id": "AMzKqJPEZz6f",
        "outputId": "59fc5c98-2a3f-4502-ca02-7aa78d1a34de"
      },
      "outputs": [
        {
          "name": "stdout",
          "output_type": "stream",
          "text": [
            "(6, 1)\n"
          ]
        }
      ],
      "source": [
        "y_pred2 = model2.predict(X_test)\n",
        "print(y_pred.shape)"
      ]
    },
    {
      "cell_type": "code",
      "execution_count": null,
      "metadata": {
        "id": "HFCppis3Zz6f"
      },
      "outputs": [],
      "source": [
        "y_train_inv2 = Rs_t.inverse_transform(y_train.reshape(1,-1))\n",
        "y_test_inv2 = Rs_t.inverse_transform(y_test.reshape(1,-1))\n",
        "y_pred_inv2 = Rs_t.inverse_transform(y_pred2)"
      ]
    },
    {
      "cell_type": "code",
      "execution_count": null,
      "metadata": {
        "id": "3tmBZLVzZz6g",
        "outputId": "ba969e51-4997-442e-b587-8435ba7a8d8c"
      },
      "outputs": [
        {
          "data": {
            "image/png": "[encoded data removed]",
            "text/plain": [
              "<Figure size 432x288 with 1 Axes>"
            ]
          },
          "metadata": {
            "needs_background": "light"
          },
          "output_type": "display_data"
        }
      ],
      "source": [
        "plt.plot(np.arange(0, len(y_train)), y_train_inv.flatten(), 'g', label=\"history\")\n",
        "plt.plot(np.arange(len(y_train), len(y_train) + len(y_test)), y_test_inv2.flatten(), marker='.', label=\"true\")\n",
        "plt.plot(np.arange(len(y_train), len(y_train) + len(y_test)), y_pred_inv2.flatten(), 'r', label=\"prediction\")\n",
        "plt.ylabel('Y')\n",
        "plt.xlabel('Time Step')\n",
        "plt.legend()\n",
        "plt.show();"
      ]
    },
    {
      "cell_type": "code",
      "execution_count": null,
      "metadata": {
        "id": "FuuiH8w1Zz6g",
        "outputId": "d1b2f47a-ee42-40e7-b717-3c725823e8e9"
      },
      "outputs": [
        {
          "data": {
            "image/png": "[encoded data removed]",
            "text/plain": [
              "<Figure size 432x288 with 1 Axes>"
            ]
          },
          "metadata": {
            "needs_background": "light"
          },
          "output_type": "display_data"
        }
      ],
      "source": [
        "plt.plot(y_test_inv2.flatten(), marker='.', label=\"true\")\n",
        "plt.plot(y_pred_inv2.flatten(), 'r', label=\"prediction\")\n",
        "plt.ylabel('Y')\n",
        "plt.xlabel('Time Step')\n",
        "plt.legend()\n",
        "plt.show();"
      ]
    },
    {
      "cell_type": "code",
      "execution_count": null,
      "metadata": {
        "id": "-f1nXUg-Zz6g",
        "outputId": "c0bbd1d1-f2ce-4777-9d0f-52eed7a6a51b"
      },
      "outputs": [
        {
          "name": "stdout",
          "output_type": "stream",
          "text": [
            "LSTM 1 layer:\n",
            "Root Mean Square Error: 0.0905\n",
            "Mean Absolute Percentage Error: 12.5040\n",
            "Mean Percentage Error: 7.0610\n",
            "LSTM 2 layer:\n",
            "Root Mean Square Error: 0.1143\n",
            "Mean Absolute Percentage Error: 16.1038\n",
            "Mean Percentage Error: -9.9562\n"
          ]
        }
      ],
      "source": [
        "# Define a function to calculate MAE and RMSE\n",
        "def evaluate_prediction(predictions, actual, model_name):\n",
        "    errors = predictions - actual\n",
        "    mse = np.square(errors).mean()\n",
        "    rmse = np.sqrt(mse)\n",
        "    mae = np.abs(errors).mean()\n",
        "    mape = (np.mean(np.abs((actual-predictions)/actual))*100)\n",
        "    mae = np.mean(errors)*100\n",
        "    print(model_name + ':')\n",
        "    \n",
        "    #print('Mean Absolute Error: {:.4f}'.format(mae))\n",
        "    print('Root Mean Square Error: {:.4f}'.format(rmse))\n",
        "    #print('Mean squered Error:{:.4f}'.format(mse))\n",
        "    print('Mean Absolute Percentage Error: {:.4f}'.format(mape))\n",
        "    print('Mean Percentage Error: {:.4f}'.format(mae))\n",
        "    \n",
        "evaluate_prediction(y_pred, y_test, 'LSTM 1 layer')\n",
        "\n",
        "evaluate_prediction(y_pred2, y_test, 'LSTM 2 layer')"
      ]
    }
  ],
  "metadata": {
    "kernelspec": {
      "display_name": "Python 3 (ipykernel)",
      "language": "python",
      "name": "python3"
    },
    "language_info": {
      "codemirror_mode": {
        "name": "ipython",
        "version": 3
      },
      "file_extension": ".py",
      "mimetype": "text/x-python",
      "name": "python",
      "nbconvert_exporter": "python",
      "pygments_lexer": "ipython3",
      "version": "3.8.10"
    },
    "colab": {
      "name": "RNN-LSTM(2 models).ipynb",
      "provenance": [],
      "include_colab_link": true
    }
  },
  "nbformat": 4,
  "nbformat_minor": 0
}